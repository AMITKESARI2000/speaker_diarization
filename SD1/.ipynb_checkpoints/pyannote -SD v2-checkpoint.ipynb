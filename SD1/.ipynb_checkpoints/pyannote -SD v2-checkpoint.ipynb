{
 "cells": [
  {
   "cell_type": "code",
   "execution_count": 32,
   "metadata": {},
   "outputs": [
    {
     "name": "stdout",
     "output_type": "stream",
     "text": [
      " ES2004a.Mix-Headset.wav   ES2015a.Mix-Headset.wav   datasets\r\n",
      " ES2014a.Mix-Headset.wav   MixHeadset.test.rttm     'pyannote -SD v2.ipynb'\r\n"
     ]
    }
   ],
   "source": [
    "# !wget -q http://groups.inf.ed.ac.uk/ami/AMICorpusMirror/amicorpus/ES2014a/audio/ES2014a.Mix-Headset.wav\n",
    "# !wget -q https://raw.githubusercontent.com/pyannote/pyannote-audio/master/tutorials/data_preparation/AMI/MixHeadset.test.rttm\n",
    "# manual annotations (a.k.a groundtruth) in rttm file\n",
    "!ls\n",
    "\n",
    "DEMO_FILE = {'uri': 'ES2014a.Mix-Headset', 'audio': 'ES2014a.Mix-Headset.wav'}"
   ]
  },
  {
   "cell_type": "code",
   "execution_count": 34,
   "metadata": {},
   "outputs": [
    {
     "data": {
      "image/png": "[encoded data removed]",
      "text/plain": [
       "<pyannote.core.annotation.Annotation at 0x7fcbc8a89730>"
      ]
     },
     "execution_count": 34,
     "metadata": {},
     "output_type": "execute_result"
    }
   ],
   "source": [
    "# load groundtruth\n",
    "from pyannote.database.util import load_rttm\n",
    "groundtruth = load_rttm('MixHeadset.test.rttm') # this is a dict for Mix-Headset db\n",
    "groundtruth = groundtruth[DEMO_FILE['uri']] # get groundtruth of DEMO\n",
    "\n",
    "# visualize groundtruth\n",
    "groundtruth\n",
    "# This nice visualization is by pyannote.core and basically indicates when each speaker speaks.\n",
    "# SPEAKER {file_name} 1 {start_time} {duration} <NA> <NA> {speaker_name} <NA> <NA>"
   ]
  },
  {
   "cell_type": "code",
   "execution_count": 35,
   "metadata": {},
   "outputs": [
    {
     "data": {
      "image/png": "[encoded data removed]",
      "text/plain": [
       "<pyannote.core.annotation.Annotation at 0x7fcbc8a89730>"
      ]
     },
     "execution_count": 35,
     "metadata": {},
     "output_type": "execute_result"
    }
   ],
   "source": [
    "from pyannote.core import Segment, notebook\n",
    "# make notebook visualization zoom on 600s < t < 660s time range\n",
    "EXCERPT = Segment(600, 660)\n",
    "notebook.crop = EXCERPT\n",
    "\n",
    "# visualize excerpt groundtruth\n",
    "groundtruth"
   ]
  },
  {
   "cell_type": "code",
   "execution_count": 36,
   "metadata": {},
   "outputs": [
    {
     "ename": "ModuleNotFoundError",
     "evalue": "No module named 'pyannote.audio.features'",
     "output_type": "error",
     "traceback": [
      "\u001b[0;31m---------------------------------------------------------------------------\u001b[0m",
      "\u001b[0;31mModuleNotFoundError\u001b[0m                       Traceback (most recent call last)",
      "Input \u001b[0;32mIn [36]\u001b[0m, in \u001b[0;36m<cell line: 2>\u001b[0;34m()\u001b[0m\n\u001b[1;32m      1\u001b[0m \u001b[38;5;28;01mfrom\u001b[39;00m \u001b[38;5;21;01mIPython\u001b[39;00m\u001b[38;5;21;01m.\u001b[39;00m\u001b[38;5;21;01mdisplay\u001b[39;00m \u001b[38;5;28;01mimport\u001b[39;00m Audio\n\u001b[0;32m----> 2\u001b[0m \u001b[38;5;28;01mfrom\u001b[39;00m \u001b[38;5;21;01mpyannote\u001b[39;00m\u001b[38;5;21;01m.\u001b[39;00m\u001b[38;5;21;01maudio\u001b[39;00m\u001b[38;5;21;01m.\u001b[39;00m\u001b[38;5;21;01mfeatures\u001b[39;00m \u001b[38;5;28;01mimport\u001b[39;00m RawAudio\n\u001b[1;32m      4\u001b[0m \u001b[38;5;66;03m# load audio waveform, crop and play\u001b[39;00m\n\u001b[1;32m      5\u001b[0m waveform \u001b[38;5;241m=\u001b[39m RawAudio(sample_rate\u001b[38;5;241m=\u001b[39m\u001b[38;5;241m16000\u001b[39m)\u001b[38;5;241m.\u001b[39mcrop(DEMO_FILE,EXCERPT)\n",
      "\u001b[0;31mModuleNotFoundError\u001b[0m: No module named 'pyannote.audio.features'"
     ]
    }
   ],
   "source": [
    "from IPython.display import Audio\n",
    "from pyannote.audio.features import RawAudio\n",
    "\n",
    "# load audio waveform, crop and play\n",
    "waveform = RawAudio(sample_rate=16000).crop(DEMO_FILE,EXCERPT)\n",
    "# waveform = RawAudio(sample_rate=16000)(DEMO_FILE).data for complete visualisation of the audio\n",
    "\n",
    "print(waveform, waveform.shape)\n",
    "Audio(data=waveform.squeeze(), rate=16000, autoplay=True)"
   ]
  },
  {
   "cell_type": "code",
   "execution_count": null,
   "metadata": {},
   "outputs": [],
   "source": [
    "# SD\n",
    "import torch\n",
    "pipeline = torch.hub.load('pyannote/pyannote-audio', 'dia')\n",
    "diarization = pipeline(DEMO_FILE)\n",
    "# run a full speaker diarization pipeline, that includes \n",
    "# speech activity detection, speaker change detection, speaker embedding, and a final clustering step"
   ]
  },
  {
   "cell_type": "code",
   "execution_count": 37,
   "metadata": {},
   "outputs": [
    {
     "ename": "NameError",
     "evalue": "name 'diarization' is not defined",
     "output_type": "error",
     "traceback": [
      "\u001b[0;31m---------------------------------------------------------------------------\u001b[0m",
      "\u001b[0;31mNameError\u001b[0m                                 Traceback (most recent call last)",
      "Input \u001b[0;32mIn [37]\u001b[0m, in \u001b[0;36m<cell line: 1>\u001b[0;34m()\u001b[0m\n\u001b[0;32m----> 1\u001b[0m \u001b[43mdiarization\u001b[49m\n",
      "\u001b[0;31mNameError\u001b[0m: name 'diarization' is not defined"
     ]
    }
   ],
   "source": [
    "diarization"
   ]
  },
  {
   "cell_type": "code",
   "execution_count": 11,
   "metadata": {},
   "outputs": [
    {
     "ename": "NameError",
     "evalue": "name 'diarization' is not defined",
     "output_type": "error",
     "traceback": [
      "\u001b[0;31m---------------------------------------------------------------------------\u001b[0m",
      "\u001b[0;31mNameError\u001b[0m                                 Traceback (most recent call last)",
      "Input \u001b[0;32mIn [11]\u001b[0m, in \u001b[0;36m<cell line: 3>\u001b[0;34m()\u001b[0m\n\u001b[1;32m      1\u001b[0m \u001b[38;5;66;03m# Data visualisation of the trained model\u001b[39;00m\n\u001b[1;32m      2\u001b[0m \u001b[38;5;28;01mfrom\u001b[39;00m \u001b[38;5;21;01mpprint\u001b[39;00m \u001b[38;5;28;01mimport\u001b[39;00m pprint\n\u001b[0;32m----> 3\u001b[0m \u001b[43mdiarization\u001b[49m\u001b[38;5;241m.\u001b[39mlabels()\n\u001b[1;32m      4\u001b[0m diarization\u001b[38;5;241m.\u001b[39mlabel_duration(diarization\u001b[38;5;241m.\u001b[39mlabels()[\u001b[38;5;241m0\u001b[39m])\n\u001b[1;32m      5\u001b[0m diarization\u001b[38;5;241m.\u001b[39mlabel_timeline(\u001b[38;5;124m'\u001b[39m\u001b[38;5;124mA\u001b[39m\u001b[38;5;124m'\u001b[39m)\n",
      "\u001b[0;31mNameError\u001b[0m: name 'diarization' is not defined"
     ]
    }
   ],
   "source": [
    "# Data visualisation of the trained model\n",
    "from pprint import pprint\n",
    "diarization.labels()\n",
    "diarization.label_duration(diarization.labels()[0])\n",
    "diarization.label_timeline('A')\n",
    "pprint(diarization.chart())\n",
    "diarization.argmax()\n",
    "# print(diarization.for_json())\n",
    "l = diarization.__dict__\n",
    "# pprint(l)\n",
    "print(len(diarization._labels['A']))\n",
    "print(diarization._labels['A'])"
   ]
  },
  {
   "cell_type": "markdown",
   "metadata": {},
   "source": [
    "## DER\n"
   ]
  },
  {
   "cell_type": "code",
   "execution_count": null,
   "metadata": {},
   "outputs": [],
   "source": [
    "from pyannote.metrics.diarization import DiarizationErrorRate\n",
    "metric = DiarizationErrorRate()\n",
    "der = metric(groundtruth, diarization)\n",
    "print(f'diarization error rate = {100 * der:.1f}%')\n",
    "\n",
    "# gave 42.6% error"
   ]
  },
  {
   "cell_type": "code",
   "execution_count": null,
   "metadata": {},
   "outputs": [],
   "source": [
    "mapping = metric.optimal_mapping(groundtruth, diarization)\n",
    "diarization.rename_labels(mapping=mapping)"
   ]
  },
  {
   "cell_type": "code",
   "execution_count": null,
   "metadata": {},
   "outputs": [],
   "source": [
    "groundtruth"
   ]
  },
  {
   "cell_type": "code",
   "execution_count": null,
   "metadata": {},
   "outputs": [],
   "source": [
    "overlap_detection = torch.hub.load('pyannote/pyannote-audio', 'ovl_ami', pipeline=True)\n",
    "overlap_detection(DEMO_FILE).get_timeline()"
   ]
  },
  {
   "cell_type": "markdown",
   "metadata": {},
   "source": [
    "# pyannote v2.0 "
   ]
  },
  {
   "cell_type": "code",
   "execution_count": 4,
   "metadata": {},
   "outputs": [
    {
     "name": "stdout",
     "output_type": "stream",
     "text": [
      " EN2002a.Mix-Headset.wav\t       data\r\n",
      " ES2004a.Mix-Headset.wav\t       datasets\r\n",
      " ES2014a.Mix-Headset.wav\t       manifest_vad_input.json\r\n",
      " ES2015a.Mix-Headset.wav\t      'nemo try.ipynb'\r\n",
      " MixHeadset.test.rttm\t\t       oracle_vad\r\n",
      " Speaker_Diarization_Inference.ipynb   outputs\r\n",
      " audio_data_X2zqiX6yL3I.mp3\t      'pyannote -SD v2.ipynb'\r\n",
      " audio_data_X2zqiX6yL3I.wav\t       resemblyzer-ai.ipynb\r\n"
     ]
    }
   ],
   "source": [
    "# !wget -q http://groups.inf.ed.ac.uk/ami/AMICorpusMirror/amicorpus/ES2014a/audio/ES2014a.Mix-Headset.wav\n",
    "# !wget -q https://raw.githubusercontent.com/pyannote/pyannote-audio/master/tutorials/data_preparation/AMI/MixHeadset.test.rttm\n",
    "# manual annotations (a.k.a groundtruth) in rttm file\n",
    "!ls\n",
    "\n",
    "DEMO_FILE = {'uri': 'ES2004a.Mix-Headset', 'audio': 'ES2004a.Mix-Headset.wav'}"
   ]
  },
  {
   "cell_type": "code",
   "execution_count": 5,
   "metadata": {},
   "outputs": [
    {
     "data": {
      "text/plain": [
       "['pyannote/speaker-diarization',\n",
       " 'pyannote/overlapped-speech-detection',\n",
       " 'pyannote/voice-activity-detection',\n",
       " 'pyannote/speaker-segmentation']"
      ]
     },
     "execution_count": 5,
     "metadata": {},
     "output_type": "execute_result"
    }
   ],
   "source": [
    "from huggingface_hub import HfApi\n",
    "available_pipelines = [p.modelId for p in HfApi().list_models(filter=\"pyannote-audio-pipeline\")]\n",
    "available_pipelines"
   ]
  },
  {
   "cell_type": "code",
   "execution_count": 6,
   "metadata": {},
   "outputs": [
    {
     "data": {
      "image/png": "[encoded data removed]",
      "text/plain": [
       "<pyannote.core.annotation.Annotation at 0x7f4ea8176190>"
      ]
     },
     "execution_count": 6,
     "metadata": {},
     "output_type": "execute_result"
    }
   ],
   "source": [
    "# load groundtruth\n",
    "from pyannote.database.util import load_rttm\n",
    "\n",
    "groundtruth = load_rttm('MixHeadset.test.rttm') # this is a dict for Mix-Headset db\n",
    "groundtruth = groundtruth[DEMO_FILE['uri']] # get groundtruth of DEMO\n",
    "\n",
    "# visualize groundtruth\n",
    "groundtruth\n",
    "# This nice visualization is by pyannote.core and basically indicates when each speaker speaks.\n",
    "# SPEAKER {file_name} 1 {start_time} {duration} <NA> <NA> {speaker_name} <NA> <NA>"
   ]
  },
  {
   "cell_type": "code",
   "execution_count": 12,
   "metadata": {},
   "outputs": [
    {
     "ename": "KeyboardInterrupt",
     "evalue": "",
     "output_type": "error",
     "traceback": [
      "\u001b[0;31m---------------------------------------------------------------------------\u001b[0m",
      "\u001b[0;31mKeyboardInterrupt\u001b[0m                         Traceback (most recent call last)",
      "Input \u001b[0;32mIn [12]\u001b[0m, in \u001b[0;36m<cell line: 6>\u001b[0;34m()\u001b[0m\n\u001b[1;32m      3\u001b[0m pipeline2 \u001b[38;5;241m=\u001b[39m Pipeline\u001b[38;5;241m.\u001b[39mfrom_pretrained(\u001b[38;5;124m\"\u001b[39m\u001b[38;5;124mpyannote/speaker-diarization\u001b[39m\u001b[38;5;124m\"\u001b[39m)\n\u001b[1;32m      5\u001b[0m \u001b[38;5;66;03m# apply pretrained pipeline\u001b[39;00m\n\u001b[0;32m----> 6\u001b[0m diarization2 \u001b[38;5;241m=\u001b[39m \u001b[43mpipeline2\u001b[49m\u001b[43m(\u001b[49m\u001b[43mDEMO_FILE\u001b[49m\u001b[43m)\u001b[49m\n\u001b[1;32m      7\u001b[0m mapping \u001b[38;5;241m=\u001b[39m metric\u001b[38;5;241m.\u001b[39moptimal_mapping(groundtruth, diarization)\n\u001b[1;32m      8\u001b[0m diarization\u001b[38;5;241m.\u001b[39mrename_labels(mapping\u001b[38;5;241m=\u001b[39mmapping)\n",
      "File \u001b[0;32m/usr/local/lib/python3.8/dist-packages/pyannote/audio/core/pipeline.py:210\u001b[0m, in \u001b[0;36mPipeline.__call__\u001b[0;34m(self, file, **kwargs)\u001b[0m\n\u001b[1;32m    207\u001b[0m \u001b[38;5;28;01mif\u001b[39;00m \u001b[38;5;28mhasattr\u001b[39m(\u001b[38;5;28mself\u001b[39m, \u001b[38;5;124m\"\u001b[39m\u001b[38;5;124mpreprocessors\u001b[39m\u001b[38;5;124m\"\u001b[39m):\n\u001b[1;32m    208\u001b[0m     file \u001b[38;5;241m=\u001b[39m ProtocolFile(file, lazy\u001b[38;5;241m=\u001b[39m\u001b[38;5;28mself\u001b[39m\u001b[38;5;241m.\u001b[39mpreprocessors)\n\u001b[0;32m--> 210\u001b[0m \u001b[38;5;28;01mreturn\u001b[39;00m \u001b[38;5;28;43mself\u001b[39;49m\u001b[38;5;241;43m.\u001b[39;49m\u001b[43mapply\u001b[49m\u001b[43m(\u001b[49m\u001b[43mfile\u001b[49m\u001b[43m,\u001b[49m\u001b[43m \u001b[49m\u001b[38;5;241;43m*\u001b[39;49m\u001b[38;5;241;43m*\u001b[39;49m\u001b[43mkwargs\u001b[49m\u001b[43m)\u001b[49m\n",
      "File \u001b[0;32m/usr/local/lib/python3.8/dist-packages/pyannote/audio/pipelines/speaker_diarization.py:272\u001b[0m, in \u001b[0;36mSpeakerDiarization.apply\u001b[0;34m(self, file, num_speakers, min_speakers, max_speakers, hook)\u001b[0m\n\u001b[1;32m    269\u001b[0m hook(\u001b[38;5;124m\"\u001b[39m\u001b[38;5;124mspeaker_counting\u001b[39m\u001b[38;5;124m\"\u001b[39m, count)\n\u001b[1;32m    271\u001b[0m \u001b[38;5;66;03m# trim warm-up regions and stitch\u001b[39;00m\n\u001b[0;32m--> 272\u001b[0m segmentations \u001b[38;5;241m=\u001b[39m \u001b[43mInference\u001b[49m\u001b[38;5;241;43m.\u001b[39;49m\u001b[43mstitch\u001b[49m\u001b[43m(\u001b[49m\n\u001b[1;32m    273\u001b[0m \u001b[43m    \u001b[49m\u001b[43mInference\u001b[49m\u001b[38;5;241;43m.\u001b[39;49m\u001b[43mtrim\u001b[49m\u001b[43m(\u001b[49m\u001b[43msegmentations\u001b[49m\u001b[43m,\u001b[49m\u001b[43m \u001b[49m\u001b[43mwarm_up\u001b[49m\u001b[38;5;241;43m=\u001b[39;49m\u001b[43m(\u001b[49m\u001b[38;5;28;43mself\u001b[39;49m\u001b[38;5;241;43m.\u001b[39;49m\u001b[43mwarm_up\u001b[49m\u001b[43m,\u001b[49m\u001b[43m \u001b[49m\u001b[38;5;28;43mself\u001b[39;49m\u001b[38;5;241;43m.\u001b[39;49m\u001b[43mwarm_up\u001b[49m\u001b[43m)\u001b[49m\u001b[43m)\u001b[49m\u001b[43m,\u001b[49m\n\u001b[1;32m    274\u001b[0m \u001b[43m    \u001b[49m\u001b[43mframes\u001b[49m\u001b[38;5;241;43m=\u001b[39;49m\u001b[38;5;28;43mself\u001b[39;49m\u001b[38;5;241;43m.\u001b[39;49m\u001b[43m_frames\u001b[49m\u001b[43m,\u001b[49m\n\u001b[1;32m    275\u001b[0m \u001b[43m    \u001b[49m\u001b[43mlookahead\u001b[49m\u001b[38;5;241;43m=\u001b[39;49m\u001b[38;5;28;43;01mNone\u001b[39;49;00m\u001b[43m,\u001b[49m\u001b[43m  \u001b[49m\u001b[38;5;66;43;03m# TODO: make it an hyper-parameter?,\u001b[39;49;00m\n\u001b[1;32m    276\u001b[0m \u001b[43m    \u001b[49m\u001b[43mcost_func\u001b[49m\u001b[38;5;241;43m=\u001b[39;49m\u001b[43mmae_cost_func\u001b[49m\u001b[43m,\u001b[49m\n\u001b[1;32m    277\u001b[0m \u001b[43m    \u001b[49m\u001b[43mmatch_func\u001b[49m\u001b[38;5;241;43m=\u001b[39;49m\u001b[38;5;28;43mself\u001b[39;49m\u001b[38;5;241;43m.\u001b[39;49m\u001b[43mstitch_match_func\u001b[49m\u001b[43m,\u001b[49m\n\u001b[1;32m    278\u001b[0m \u001b[43m\u001b[49m\u001b[43m)\u001b[49m\n\u001b[1;32m    279\u001b[0m hook(\u001b[38;5;124m\"\u001b[39m\u001b[38;5;124mlocal_stitching\u001b[39m\u001b[38;5;124m\"\u001b[39m, segmentations)\n\u001b[1;32m    281\u001b[0m \u001b[38;5;66;03m# stitched chunks are longer than original chunks\u001b[39;00m\n",
      "File \u001b[0;32m/usr/local/lib/python3.8/dist-packages/pyannote/audio/core/inference.py:669\u001b[0m, in \u001b[0;36mInference.stitch\u001b[0;34m(activations, frames, lookahead, cost_func, match_func)\u001b[0m\n\u001b[1;32m    666\u001b[0m     that_activations \u001b[38;5;241m=\u001b[39m activations[c, shift:]\n\u001b[1;32m    668\u001b[0m \u001b[38;5;66;03m# find the optimal one-to-one mapping\u001b[39;00m\n\u001b[0;32m--> 669\u001b[0m _, (permutation,), (cost,) \u001b[38;5;241m=\u001b[39m \u001b[43mpermutate\u001b[49m\u001b[43m(\u001b[49m\n\u001b[1;32m    670\u001b[0m \u001b[43m    \u001b[49m\u001b[43mthis_activations\u001b[49m\u001b[43m[\u001b[49m\u001b[43mnp\u001b[49m\u001b[38;5;241;43m.\u001b[39;49m\u001b[43mnewaxis\u001b[49m\u001b[43m]\u001b[49m\u001b[43m,\u001b[49m\n\u001b[1;32m    671\u001b[0m \u001b[43m    \u001b[49m\u001b[43mthat_activations\u001b[49m\u001b[43m,\u001b[49m\n\u001b[1;32m    672\u001b[0m \u001b[43m    \u001b[49m\u001b[43mcost_func\u001b[49m\u001b[38;5;241;43m=\u001b[39;49m\u001b[43mcost_func\u001b[49m\u001b[43m,\u001b[49m\n\u001b[1;32m    673\u001b[0m \u001b[43m    \u001b[49m\u001b[43mreturn_cost\u001b[49m\u001b[38;5;241;43m=\u001b[39;49m\u001b[38;5;28;43;01mTrue\u001b[39;49;00m\u001b[43m,\u001b[49m\n\u001b[1;32m    674\u001b[0m \u001b[43m\u001b[49m\u001b[43m)\u001b[49m\n\u001b[1;32m    676\u001b[0m \u001b[38;5;28;01mfor\u001b[39;00m this, that \u001b[38;5;129;01min\u001b[39;00m \u001b[38;5;28menumerate\u001b[39m(permutation):\n\u001b[1;32m    677\u001b[0m \n\u001b[1;32m    678\u001b[0m     \u001b[38;5;66;03m# only stitch under certain condiditions\u001b[39;00m\n\u001b[1;32m    679\u001b[0m     matching \u001b[38;5;241m=\u001b[39m (c \u001b[38;5;241m==\u001b[39m C) \u001b[38;5;129;01mor\u001b[39;00m (\n\u001b[1;32m    680\u001b[0m         match_func(\n\u001b[1;32m    681\u001b[0m             this_activations[:, this],\n\u001b[0;32m   (...)\u001b[0m\n\u001b[1;32m    684\u001b[0m         )\n\u001b[1;32m    685\u001b[0m     )\n",
      "File \u001b[0;32m/usr/lib/python3.8/functools.py:875\u001b[0m, in \u001b[0;36msingledispatch.<locals>.wrapper\u001b[0;34m(*args, **kw)\u001b[0m\n\u001b[1;32m    871\u001b[0m \u001b[38;5;28;01mif\u001b[39;00m \u001b[38;5;129;01mnot\u001b[39;00m args:\n\u001b[1;32m    872\u001b[0m     \u001b[38;5;28;01mraise\u001b[39;00m \u001b[38;5;167;01mTypeError\u001b[39;00m(\u001b[38;5;124mf\u001b[39m\u001b[38;5;124m'\u001b[39m\u001b[38;5;132;01m{\u001b[39;00mfuncname\u001b[38;5;132;01m}\u001b[39;00m\u001b[38;5;124m requires at least \u001b[39m\u001b[38;5;124m'\u001b[39m\n\u001b[1;32m    873\u001b[0m                     \u001b[38;5;124m'\u001b[39m\u001b[38;5;124m1 positional argument\u001b[39m\u001b[38;5;124m'\u001b[39m)\n\u001b[0;32m--> 875\u001b[0m \u001b[38;5;28;01mreturn\u001b[39;00m \u001b[43mdispatch\u001b[49m\u001b[43m(\u001b[49m\u001b[43margs\u001b[49m\u001b[43m[\u001b[49m\u001b[38;5;241;43m0\u001b[39;49m\u001b[43m]\u001b[49m\u001b[38;5;241;43m.\u001b[39;49m\u001b[38;5;18;43m__class__\u001b[39;49m\u001b[43m)\u001b[49m\u001b[43m(\u001b[49m\u001b[38;5;241;43m*\u001b[39;49m\u001b[43margs\u001b[49m\u001b[43m,\u001b[49m\u001b[43m \u001b[49m\u001b[38;5;241;43m*\u001b[39;49m\u001b[38;5;241;43m*\u001b[39;49m\u001b[43mkw\u001b[49m\u001b[43m)\u001b[49m\n",
      "File \u001b[0;32m/usr/local/lib/python3.8/dist-packages/pyannote/audio/utils/permutation.py:176\u001b[0m, in \u001b[0;36mpermutate_numpy\u001b[0;34m(y1, y2, cost_func, return_cost)\u001b[0m\n\u001b[1;32m    168\u001b[0m \u001b[38;5;129m@permutate\u001b[39m\u001b[38;5;241m.\u001b[39mregister\n\u001b[1;32m    169\u001b[0m \u001b[38;5;28;01mdef\u001b[39;00m \u001b[38;5;21mpermutate_numpy\u001b[39m(\n\u001b[1;32m    170\u001b[0m     y1: np\u001b[38;5;241m.\u001b[39mndarray,\n\u001b[0;32m   (...)\u001b[0m\n\u001b[1;32m    173\u001b[0m     return_cost: \u001b[38;5;28mbool\u001b[39m \u001b[38;5;241m=\u001b[39m \u001b[38;5;28;01mFalse\u001b[39;00m,\n\u001b[1;32m    174\u001b[0m ) \u001b[38;5;241m-\u001b[39m\u001b[38;5;241m>\u001b[39m Tuple[np\u001b[38;5;241m.\u001b[39mndarray, List[Tuple[\u001b[38;5;28mint\u001b[39m]]]:\n\u001b[0;32m--> 176\u001b[0m     output \u001b[38;5;241m=\u001b[39m \u001b[43mpermutate\u001b[49m\u001b[43m(\u001b[49m\n\u001b[1;32m    177\u001b[0m \u001b[43m        \u001b[49m\u001b[43mtorch\u001b[49m\u001b[38;5;241;43m.\u001b[39;49m\u001b[43mfrom_numpy\u001b[49m\u001b[43m(\u001b[49m\u001b[43my1\u001b[49m\u001b[43m)\u001b[49m\u001b[43m,\u001b[49m\n\u001b[1;32m    178\u001b[0m \u001b[43m        \u001b[49m\u001b[43mtorch\u001b[49m\u001b[38;5;241;43m.\u001b[39;49m\u001b[43mfrom_numpy\u001b[49m\u001b[43m(\u001b[49m\u001b[43my2\u001b[49m\u001b[43m)\u001b[49m\u001b[43m,\u001b[49m\n\u001b[1;32m    179\u001b[0m \u001b[43m        \u001b[49m\u001b[43mcost_func\u001b[49m\u001b[38;5;241;43m=\u001b[39;49m\u001b[43mcost_func\u001b[49m\u001b[43m,\u001b[49m\n\u001b[1;32m    180\u001b[0m \u001b[43m        \u001b[49m\u001b[43mreturn_cost\u001b[49m\u001b[38;5;241;43m=\u001b[39;49m\u001b[43mreturn_cost\u001b[49m\u001b[43m,\u001b[49m\n\u001b[1;32m    181\u001b[0m \u001b[43m    \u001b[49m\u001b[43m)\u001b[49m\n\u001b[1;32m    183\u001b[0m     \u001b[38;5;28;01mif\u001b[39;00m return_cost:\n\u001b[1;32m    184\u001b[0m         permutated_y2, permutations, costs \u001b[38;5;241m=\u001b[39m output\n",
      "File \u001b[0;32m/usr/lib/python3.8/functools.py:875\u001b[0m, in \u001b[0;36msingledispatch.<locals>.wrapper\u001b[0;34m(*args, **kw)\u001b[0m\n\u001b[1;32m    871\u001b[0m \u001b[38;5;28;01mif\u001b[39;00m \u001b[38;5;129;01mnot\u001b[39;00m args:\n\u001b[1;32m    872\u001b[0m     \u001b[38;5;28;01mraise\u001b[39;00m \u001b[38;5;167;01mTypeError\u001b[39;00m(\u001b[38;5;124mf\u001b[39m\u001b[38;5;124m'\u001b[39m\u001b[38;5;132;01m{\u001b[39;00mfuncname\u001b[38;5;132;01m}\u001b[39;00m\u001b[38;5;124m requires at least \u001b[39m\u001b[38;5;124m'\u001b[39m\n\u001b[1;32m    873\u001b[0m                     \u001b[38;5;124m'\u001b[39m\u001b[38;5;124m1 positional argument\u001b[39m\u001b[38;5;124m'\u001b[39m)\n\u001b[0;32m--> 875\u001b[0m \u001b[38;5;28;01mreturn\u001b[39;00m \u001b[43mdispatch\u001b[49m\u001b[43m(\u001b[49m\u001b[43margs\u001b[49m\u001b[43m[\u001b[49m\u001b[38;5;241;43m0\u001b[39;49m\u001b[43m]\u001b[49m\u001b[38;5;241;43m.\u001b[39;49m\u001b[38;5;18;43m__class__\u001b[39;49m\u001b[43m)\u001b[49m\u001b[43m(\u001b[49m\u001b[38;5;241;43m*\u001b[39;49m\u001b[43margs\u001b[49m\u001b[43m,\u001b[49m\u001b[43m \u001b[49m\u001b[38;5;241;43m*\u001b[39;49m\u001b[38;5;241;43m*\u001b[39;49m\u001b[43mkw\u001b[49m\u001b[43m)\u001b[49m\n",
      "File \u001b[0;32m/usr/local/lib/python3.8/dist-packages/pyannote/audio/utils/permutation.py:136\u001b[0m, in \u001b[0;36mpermutate_torch\u001b[0;34m(y1, y2, cost_func, return_cost)\u001b[0m\n\u001b[1;32m    131\u001b[0m \u001b[38;5;28;01mfor\u001b[39;00m b, (y1_, y2_) \u001b[38;5;129;01min\u001b[39;00m \u001b[38;5;28menumerate\u001b[39m(\u001b[38;5;28mzip\u001b[39m(y1, y2)):\n\u001b[1;32m    132\u001b[0m     \u001b[38;5;66;03m# y1_ is (num_samples, num_classes_1)-shaped\u001b[39;00m\n\u001b[1;32m    133\u001b[0m     \u001b[38;5;66;03m# y2_ is (num_samples, num_classes_2)-shaped\u001b[39;00m\n\u001b[1;32m    134\u001b[0m     \u001b[38;5;28;01mwith\u001b[39;00m torch\u001b[38;5;241m.\u001b[39mno_grad():\n\u001b[1;32m    135\u001b[0m         cost \u001b[38;5;241m=\u001b[39m torch\u001b[38;5;241m.\u001b[39mstack(\n\u001b[0;32m--> 136\u001b[0m             [\n\u001b[1;32m    137\u001b[0m                 cost_func(y2_, y1_[:, i : i \u001b[38;5;241m+\u001b[39m \u001b[38;5;241m1\u001b[39m]\u001b[38;5;241m.\u001b[39mexpand(\u001b[38;5;241m-\u001b[39m\u001b[38;5;241m1\u001b[39m, num_classes_2))\n\u001b[1;32m    138\u001b[0m                 \u001b[38;5;28;01mfor\u001b[39;00m i \u001b[38;5;129;01min\u001b[39;00m \u001b[38;5;28mrange\u001b[39m(num_classes_1)\n\u001b[1;32m    139\u001b[0m             ],\n\u001b[1;32m    140\u001b[0m         )\n\u001b[1;32m    142\u001b[0m     \u001b[38;5;28;01mif\u001b[39;00m num_classes_2 \u001b[38;5;241m>\u001b[39m num_classes_1:\n\u001b[1;32m    143\u001b[0m         padded_cost \u001b[38;5;241m=\u001b[39m F\u001b[38;5;241m.\u001b[39mpad(\n\u001b[1;32m    144\u001b[0m             cost,\n\u001b[1;32m    145\u001b[0m             (\u001b[38;5;241m0\u001b[39m, \u001b[38;5;241m0\u001b[39m, \u001b[38;5;241m0\u001b[39m, num_classes_2 \u001b[38;5;241m-\u001b[39m num_classes_1),\n\u001b[1;32m    146\u001b[0m             \u001b[38;5;124m\"\u001b[39m\u001b[38;5;124mconstant\u001b[39m\u001b[38;5;124m\"\u001b[39m,\n\u001b[1;32m    147\u001b[0m             torch\u001b[38;5;241m.\u001b[39mmax(cost) \u001b[38;5;241m+\u001b[39m \u001b[38;5;241m1\u001b[39m,\n\u001b[1;32m    148\u001b[0m         )\n",
      "File \u001b[0;32m/usr/local/lib/python3.8/dist-packages/pyannote/audio/utils/permutation.py:137\u001b[0m, in \u001b[0;36m<listcomp>\u001b[0;34m(.0)\u001b[0m\n\u001b[1;32m    131\u001b[0m \u001b[38;5;28;01mfor\u001b[39;00m b, (y1_, y2_) \u001b[38;5;129;01min\u001b[39;00m \u001b[38;5;28menumerate\u001b[39m(\u001b[38;5;28mzip\u001b[39m(y1, y2)):\n\u001b[1;32m    132\u001b[0m     \u001b[38;5;66;03m# y1_ is (num_samples, num_classes_1)-shaped\u001b[39;00m\n\u001b[1;32m    133\u001b[0m     \u001b[38;5;66;03m# y2_ is (num_samples, num_classes_2)-shaped\u001b[39;00m\n\u001b[1;32m    134\u001b[0m     \u001b[38;5;28;01mwith\u001b[39;00m torch\u001b[38;5;241m.\u001b[39mno_grad():\n\u001b[1;32m    135\u001b[0m         cost \u001b[38;5;241m=\u001b[39m torch\u001b[38;5;241m.\u001b[39mstack(\n\u001b[1;32m    136\u001b[0m             [\n\u001b[0;32m--> 137\u001b[0m                 \u001b[43mcost_func\u001b[49m\u001b[43m(\u001b[49m\u001b[43my2_\u001b[49m\u001b[43m,\u001b[49m\u001b[43m \u001b[49m\u001b[43my1_\u001b[49m\u001b[43m[\u001b[49m\u001b[43m:\u001b[49m\u001b[43m,\u001b[49m\u001b[43m \u001b[49m\u001b[43mi\u001b[49m\u001b[43m \u001b[49m\u001b[43m:\u001b[49m\u001b[43m \u001b[49m\u001b[43mi\u001b[49m\u001b[43m \u001b[49m\u001b[38;5;241;43m+\u001b[39;49m\u001b[43m \u001b[49m\u001b[38;5;241;43m1\u001b[39;49m\u001b[43m]\u001b[49m\u001b[38;5;241;43m.\u001b[39;49m\u001b[43mexpand\u001b[49m\u001b[43m(\u001b[49m\u001b[38;5;241;43m-\u001b[39;49m\u001b[38;5;241;43m1\u001b[39;49m\u001b[43m,\u001b[49m\u001b[43m \u001b[49m\u001b[43mnum_classes_2\u001b[49m\u001b[43m)\u001b[49m\u001b[43m)\u001b[49m\n\u001b[1;32m    138\u001b[0m                 \u001b[38;5;28;01mfor\u001b[39;00m i \u001b[38;5;129;01min\u001b[39;00m \u001b[38;5;28mrange\u001b[39m(num_classes_1)\n\u001b[1;32m    139\u001b[0m             ],\n\u001b[1;32m    140\u001b[0m         )\n\u001b[1;32m    142\u001b[0m     \u001b[38;5;28;01mif\u001b[39;00m num_classes_2 \u001b[38;5;241m>\u001b[39m num_classes_1:\n\u001b[1;32m    143\u001b[0m         padded_cost \u001b[38;5;241m=\u001b[39m F\u001b[38;5;241m.\u001b[39mpad(\n\u001b[1;32m    144\u001b[0m             cost,\n\u001b[1;32m    145\u001b[0m             (\u001b[38;5;241m0\u001b[39m, \u001b[38;5;241m0\u001b[39m, \u001b[38;5;241m0\u001b[39m, num_classes_2 \u001b[38;5;241m-\u001b[39m num_classes_1),\n\u001b[1;32m    146\u001b[0m             \u001b[38;5;124m\"\u001b[39m\u001b[38;5;124mconstant\u001b[39m\u001b[38;5;124m\"\u001b[39m,\n\u001b[1;32m    147\u001b[0m             torch\u001b[38;5;241m.\u001b[39mmax(cost) \u001b[38;5;241m+\u001b[39m \u001b[38;5;241m1\u001b[39m,\n\u001b[1;32m    148\u001b[0m         )\n",
      "File \u001b[0;32m/usr/local/lib/python3.8/dist-packages/pyannote/audio/utils/permutation.py:95\u001b[0m, in \u001b[0;36mmae_cost_func\u001b[0;34m(Y, y, **kwargs)\u001b[0m\n\u001b[1;32m     83\u001b[0m \u001b[38;5;28;01mdef\u001b[39;00m \u001b[38;5;21mmae_cost_func\u001b[39m(Y, y, \u001b[38;5;241m*\u001b[39m\u001b[38;5;241m*\u001b[39mkwargs):\n\u001b[1;32m     84\u001b[0m     \u001b[38;5;124;03m\"\"\"Compute class-wise mean absolute difference error\u001b[39;00m\n\u001b[1;32m     85\u001b[0m \n\u001b[1;32m     86\u001b[0m \u001b[38;5;124;03m    Parameters\u001b[39;00m\n\u001b[0;32m   (...)\u001b[0m\n\u001b[1;32m     93\u001b[0m \u001b[38;5;124;03m        Mean absolute difference error\u001b[39;00m\n\u001b[1;32m     94\u001b[0m \u001b[38;5;124;03m    \"\"\"\u001b[39;00m\n\u001b[0;32m---> 95\u001b[0m     \u001b[38;5;28;01mreturn\u001b[39;00m torch\u001b[38;5;241m.\u001b[39mmean(\u001b[43mtorch\u001b[49m\u001b[38;5;241;43m.\u001b[39;49m\u001b[43mabs\u001b[49m(Y \u001b[38;5;241m-\u001b[39m y), axis\u001b[38;5;241m=\u001b[39m\u001b[38;5;241m0\u001b[39m)\n",
      "\u001b[0;31mKeyboardInterrupt\u001b[0m: "
     ]
    }
   ],
   "source": [
    "# !pyannote.audio 2.x (not yet released and only available on Github for now)!\n",
    "from pyannote.audio import Pipeline\n",
    "pipeline2 = Pipeline.from_pretrained(\"pyannote/speaker-diarization\")\n",
    "\n",
    "# apply pretrained pipeline\n",
    "diarization2 = pipeline2(DEMO_FILE)\n",
    "mapping = metric.optimal_mapping(groundtruth, diarization)\n",
    "diarization.rename_labels(mapping=mapping)"
   ]
  },
  {
   "cell_type": "code",
   "execution_count": null,
   "metadata": {},
   "outputs": [],
   "source": [
    "diarization2"
   ]
  },
  {
   "cell_type": "code",
   "execution_count": 9,
   "metadata": {},
   "outputs": [
    {
     "name": "stdout",
     "output_type": "stream",
     "text": [
      "diarization error rate 2 = 27.2%\n"
     ]
    }
   ],
   "source": [
    "from pyannote.metrics.diarization import DiarizationErrorRate\n",
    "metric2 = DiarizationErrorRate()\n",
    "der2 = metric2(groundtruth, diarization2)\n",
    "print(f'diarization error rate 2 = {100 * der2:.1f}%')"
   ]
  },
  {
   "cell_type": "code",
   "execution_count": 10,
   "metadata": {},
   "outputs": [],
   "source": [
    "from IPython.display import Audio\n",
    "# from pyannote.audio.features import RawAudio\n",
    "\n",
    "# # load audio waveform\n",
    "Audio(DEMO_FILE['audio'], rate=16000, autoplay=True)"
   ]
  },
  {
   "cell_type": "code",
   "execution_count": null,
   "metadata": {},
   "outputs": [],
   "source": []
  },
  {
   "cell_type": "code",
   "execution_count": null,
   "metadata": {},
   "outputs": [],
   "source": []
  }
 ],
 "metadata": {
  "accelerator": "GPU",
  "colab": {
   "collapsed_sections": [],
   "name": "overfit_and_underfit.ipynb",
   "toc_visible": true
  },
  "kernelspec": {
   "display_name": "Python 3",
   "language": "python",
   "name": "python3"
  },
  "language_info": {
   "codemirror_mode": {
    "name": "ipython",
    "version": 3
   },
   "file_extension": ".py",
   "mimetype": "text/x-python",
   "name": "python",
   "nbconvert_exporter": "python",
   "pygments_lexer": "ipython3",
   "version": "3.8.10"
  }
 },
 "nbformat": 4,
 "nbformat_minor": 1
}
